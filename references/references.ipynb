{
 "cells": [
  {
   "metadata": {},
   "cell_type": "markdown",
   "source": [
    "## Additional Resources\n",
    "\n",
    "- [Building Agents with Model Context Protocol](https://www.youtube.com/watch?v=kQmXtrmQ5Zg&t=1s&ab_channel=AIEngineer) - Full Workshop with Mahesh Murag of Anthropic\n",
    "- [Mahesh Workshop Agent Example](https://github.com/maheshmurag/workshop-mcp-agent-example) (this example shows the use of MCP agent: an example of a host or LLM-based application that is MCP compatible).\n",
    "- [Claude Desktop Setup](https://modelcontextprotocol.io/quickstart/user) (you may need to download [Node.js](https://nodejs.org/en), and also [uv](https://github.com/astral-sh/uv?tab=readme-ov-file#installation))\n",
    "- [Testing your server with Claude Desktop](https://modelcontextprotocol.io/quickstart/server#testing-your-server-with-claude-for-desktop) - If you’re a Windows user and using uv, you may need to put the full path to the uv executable in the command field.\n",
    "- [MCP core architectures](https://modelcontextprotocol.io/docs/concepts/architecture); [MCP Python SDK](https://github.com/modelcontextprotocol/python-sdk).\n",
    "- If you code with Typescript, check this [MCP course](https://www.aihero.dev/mcp-prerequisites).\n",
    "- [MCP server with Docker](https://github.com/daveebbelaar/ai-cookbook/tree/main/mcp/crash-course/6-run-with-docker)\n",
    "- [MCP: Build Rich-Context AI Apps with Anthropic](https://learn.deeplearning.ai/courses/mcp-build-rich-context-ai-apps-with-anthropic)\n",
    "- [Agentic Wokflow](https://learn.deeplearning.ai/courses/agentic-ai/lesson/vtzr25/evaluating-the-impact-of-reflection)"
   ],
   "id": "3e6d11fe51333860"
  }
 ],
 "metadata": {
  "kernelspec": {
   "display_name": "Python 3",
   "language": "python",
   "name": "python3"
  },
  "language_info": {
   "codemirror_mode": {
    "name": "ipython",
    "version": 2
   },
   "file_extension": ".py",
   "mimetype": "text/x-python",
   "name": "python",
   "nbconvert_exporter": "python",
   "pygments_lexer": "ipython2",
   "version": "2.7.6"
  }
 },
 "nbformat": 4,
 "nbformat_minor": 5
}
